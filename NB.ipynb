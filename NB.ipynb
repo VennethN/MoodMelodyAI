{
 "cells": [
  {
   "cell_type": "markdown",
   "metadata": {},
   "source": [
    "## Text Mining II. Music Recomendation Based on Moods"
   ]
  },
  {
   "cell_type": "markdown",
   "metadata": {},
   "source": [
    "#### Data Preparation"
   ]
  },
  {
   "cell_type": "code",
   "execution_count": null,
   "metadata": {},
   "outputs": [],
   "source": [
    "import nltk\n",
    "import spacy\n",
    "import pandas as pd\n",
    "import seaborn as sns\n",
    "import matplotlib.pyplot as plt\n",
    "\n",
    "from nltk.tree import Tree\n",
    "from nltk import pos_tag, ne_chunk\n",
    "from nltk.tokenize import word_tokenize\n",
    "\n",
    "from sklearn.metrics import accuracy_score\n",
    "from sklearn.naive_bayes import ComplementNB\n",
    "from sklearn.model_selection import train_test_split\n",
    "from sklearn.feature_extraction.text import TfidfVectorizer"
   ]
  },
  {
   "cell_type": "code",
   "execution_count": null,
   "metadata": {},
   "outputs": [],
   "source": [
    "nltk.download([\n",
    "    \"words\",\n",
    "    \"punkt\",\n",
    "    \"wordnet\",\n",
    "    \"punkt_tab\",\n",
    "    \"stopwords\",\n",
    "    \"maxent_ne_chunker\",\n",
    "    \"vader_lexicon\",\n",
    "])"
   ]
  },
  {
   "cell_type": "code",
   "execution_count": 3,
   "metadata": {},
   "outputs": [],
   "source": [
    "FILE_PATH_EMOTION = './dataset/combined_emotion.csv'\n",
    "FILE_PATH_SONG = './dataset/data_moods.csv'"
   ]
  },
  {
   "cell_type": "code",
   "execution_count": null,
   "metadata": {},
   "outputs": [],
   "source": [
    "df_emotion = pd.read_csv(FILE_PATH_EMOTION)\n",
    "print(df_emotion.count(), '\\n')\n",
    "print(df_emotion[\"emotion\"].unique(), '\\n')\n",
    "print(df_emotion.head(), '\\n')\n",
    "\n",
    "df_song = pd.read_csv(FILE_PATH_SONG)\n",
    "print(df_song.head())"
   ]
  },
  {
   "cell_type": "code",
   "execution_count": null,
   "metadata": {},
   "outputs": [],
   "source": [
    "sns.histplot(df_song[\"mood\"])\n",
    "plt.show()\n",
    "sns.histplot(df_emotion[\"emotion\"])\n",
    "plt.show()"
   ]
  },
  {
   "cell_type": "markdown",
   "metadata": {},
   "source": [
    "### Data Processing"
   ]
  },
  {
   "cell_type": "code",
   "execution_count": null,
   "metadata": {},
   "outputs": [],
   "source": [
    "df_emotion['emotion'] = df_emotion['emotion'].replace({'fear': 'Sad', 'sad': 'Sad'})\n",
    "sns.histplot(df_emotion[\"emotion\"])\n",
    "plt.show()"
   ]
  },
  {
   "cell_type": "code",
   "execution_count": null,
   "metadata": {},
   "outputs": [],
   "source": [
    "df_emotion['emotion'] = df_emotion['emotion'].replace({'love': 'Happy','joy': 'Happy'})\n",
    "sns.histplot(df_emotion[\"emotion\"])\n",
    "plt.show()"
   ]
  },
  {
   "cell_type": "code",
   "execution_count": null,
   "metadata": {},
   "outputs": [],
   "source": [
    "df_emotion['emotion'] = df_emotion['emotion'].replace({'suprise': 'Energetic','anger': 'Energetic'})\n",
    "sns.histplot(df_emotion[\"emotion\"])\n",
    "plt.show()"
   ]
  },
  {
   "cell_type": "code",
   "execution_count": null,
   "metadata": {},
   "outputs": [],
   "source": [
    "df_song['mood'] = df_song['mood'].drop(df_song[df_song['mood'] == 'Calm'].index)\n",
    "sns.histplot(df_song[\"mood\"])\n",
    "plt.show()"
   ]
  },
  {
   "cell_type": "markdown",
   "metadata": {},
   "source": [
    "### Model for Mood Analysis"
   ]
  },
  {
   "cell_type": "markdown",
   "metadata": {},
   "source": [
    "##### Load & Process Dataset"
   ]
  },
  {
   "cell_type": "code",
   "execution_count": 10,
   "metadata": {},
   "outputs": [],
   "source": [
    "sentence = df_emotion['sentence']\n",
    "emotion = df_emotion['emotion']"
   ]
  },
  {
   "cell_type": "code",
   "execution_count": 11,
   "metadata": {},
   "outputs": [],
   "source": [
    "X_train, X_test, y_train, y_test = train_test_split(\n",
    "    sentence,\n",
    "    emotion,\n",
    "    test_size=0.3,\n",
    "    random_state=42\n",
    ")"
   ]
  },
  {
   "cell_type": "markdown",
   "metadata": {},
   "source": [
    "##### Compute TF-IDF Features"
   ]
  },
  {
   "cell_type": "code",
   "execution_count": 12,
   "metadata": {},
   "outputs": [],
   "source": [
    "vectorizer = TfidfVectorizer(ngram_range=(1,2))\n",
    "X_train_tfidf = vectorizer.fit_transform(X_train)\n",
    "X_test_tfidf = vectorizer.transform(X_test)"
   ]
  },
  {
   "cell_type": "markdown",
   "metadata": {},
   "source": [
    "##### Training Model"
   ]
  },
  {
   "cell_type": "code",
   "execution_count": null,
   "metadata": {},
   "outputs": [],
   "source": [
    "model = ComplementNB()\n",
    "model.fit(\n",
    "    X_train_tfidf, \n",
    "    y_train\n",
    ")\n",
    "import pickle\n",
    "\n",
    "# Save the model\n",
    "filename = 'musicmood.pkl'\n",
    "with open(filename, 'wb') as file:\n",
    "    pickle.dump(model, file)\n",
    "\n",
    "print(f\"Model saved to {filename}\")"
   ]
  },
  {
   "cell_type": "code",
   "execution_count": null,
   "metadata": {},
   "outputs": [],
   "source": [
    "y_pred = model.predict(X_test_tfidf)\n",
    "accuracy = accuracy_score(y_test, y_pred)\n",
    "print(f'Accuracy: {accuracy*100:.2f}%')"
   ]
  },
  {
   "cell_type": "markdown",
   "metadata": {},
   "source": [
    "##### Sample in Training"
   ]
  },
  {
   "cell_type": "code",
   "execution_count": null,
   "metadata": {},
   "outputs": [],
   "source": [
    "for sentence, true_label, predicted_label in zip(X_test[:10], y_test[:10], y_pred[:10]):\n",
    "    print(f\"User Input: {sentence}\")\n",
    "    print(f\"True Mood: {true_label} | Predicted Mood: {predicted_label}\")\n",
    "    print(\"-\" * 50)"
   ]
  },
  {
   "cell_type": "markdown",
   "metadata": {},
   "source": [
    "### Music Recomendation"
   ]
  },
  {
   "cell_type": "code",
   "execution_count": 16,
   "metadata": {},
   "outputs": [],
   "source": [
    "def recommend_song(emotion, df_song, top_n=10):\n",
    "    recommended_songs = df_song[df_song['mood'] == emotion].sort_values(by='popularity', ascending=False).head(top_n)[['name', 'album', 'artist', 'mood']]\n",
    "    return recommended_songs"
   ]
  },
  {
   "cell_type": "code",
   "execution_count": 17,
   "metadata": {},
   "outputs": [],
   "source": [
    "def predict_mood(user_input):\n",
    "    user_input_tfidf = vectorizer.transform([user_input])\n",
    "    return model.predict(user_input_tfidf)[0]"
   ]
  },
  {
   "cell_type": "code",
   "execution_count": 18,
   "metadata": {},
   "outputs": [],
   "source": [
    "nlp = spacy.load(\"en_core_web_sm\")\n",
    "def extract_entities(text):\n",
    "    doc = nlp(text)\n",
    "    spacy.displacy.render(doc, style=\"ent\", jupyter=True)\n",
    "    entities = [(ent.text, ent.label_) for ent in doc.ents]\n",
    "    \n",
    "    return entities"
   ]
  },
  {
   "cell_type": "markdown",
   "metadata": {},
   "source": [
    "### Menu Section"
   ]
  },
  {
   "cell_type": "code",
   "execution_count": null,
   "metadata": {},
   "outputs": [],
   "source": [
    "request = \"NO REQUEST\"\n",
    "while True:\n",
    "    print(\"\\nMUSIC RECOMMENDATION APPLICATION BASED ON MOODS\")\n",
    "    print(f\"YOUR REQUEST: {request}\")\n",
    "    print(f\"YOUR MOOD: {'UNKNOWN' if request == 'NO REQUEST' else predict_mood(request).item()}\")\n",
    "    print(\"1. WRITE YOUR REQUEST\")\n",
    "    print(\"2. VIEW MUSIC RECOMMENDATION\")\n",
    "    print(\"3. VIEW NAMED ENTITIES RECOGNITION\")\n",
    "    print(\"4. EXIT\")\n",
    "    \n",
    "    choice = input(\">> \")\n",
    "    \n",
    "    if choice == \"1\":\n",
    "        request = input(\"Enter your request: \")\n",
    "    elif choice == \"2\":\n",
    "        if request == \"NO REQUEST\":\n",
    "            print(\"No request found. Please write a request first.\")\n",
    "        else:\n",
    "            mood = predict_mood(request)\n",
    "            print(f\"Predicted Mood: {mood}\")\n",
    "            print(\"Recommended Songs:\")\n",
    "            print(recommend_song(mood, df_song))\n",
    "    elif choice == \"3\":\n",
    "        if request == \"NO REVIEW\":\n",
    "            print(\"No request found. Please write a request first.\")\n",
    "            input(\"Press Enter to continue...\")\n",
    "        else:\n",
    "            print(\"Named Entities:\")\n",
    "            extract_entities(request)\n",
    "    elif choice == \"4\":\n",
    "        print(\"Exiting...\")\n",
    "        break\n",
    "    else:\n",
    "        print(\"Invalid choice. Please select a valid option.\")\n"
   ]
  }
 ],
 "metadata": {
  "kernelspec": {
   "display_name": ".venv",
   "language": "python",
   "name": "python3"
  },
  "language_info": {
   "codemirror_mode": {
    "name": "ipython",
    "version": 3
   },
   "file_extension": ".py",
   "mimetype": "text/x-python",
   "name": "python",
   "nbconvert_exporter": "python",
   "pygments_lexer": "ipython3",
   "version": "3.11.8"
  }
 },
 "nbformat": 4,
 "nbformat_minor": 2
}
